{
 "cells": [
  {
   "cell_type": "markdown",
   "metadata": {
    "id": "P6GhOWUba1NZ"
   },
   "source": [
    "# Digit Number"
   ]
  },
  {
   "cell_type": "code",
   "execution_count": 33,
   "metadata": {
    "id": "6Iv6u4Wk4_bY"
   },
   "outputs": [],
   "source": [
    "import matplotlib.pyplot as plt\n",
    "from sklearn.metrics import accuracy_score\n",
    "from sklearn.preprocessing import OneHotEncoder\n",
    "from sklearn.model_selection import train_test_split\n",
    "from sklearn.preprocessing import StandardScaler\n",
    "from sklearn.datasets import fetch_openml\n",
    "import numpy as np\n",
    "\n",
    "np.random.seed(4)"
   ]
  },
  {
   "cell_type": "markdown",
   "metadata": {
    "id": "7PAi408Xd_kZ"
   },
   "source": [
    "## Dataset"
   ]
  },
  {
   "cell_type": "code",
   "execution_count": 34,
   "metadata": {
    "id": "YS8oMn9zd7zw"
   },
   "outputs": [],
   "source": [
    "\n",
    "mnist = fetch_openml('mnist_784')\n",
    "X, y = mnist['data'].to_numpy(), mnist['target'].to_numpy().astype(int)\n"
   ]
  },
  {
   "cell_type": "code",
   "execution_count": 35,
   "metadata": {
    "id": "cs_aC5Bh4zAt"
   },
   "outputs": [
    {
     "data": {
      "image/png": "[encoded data removed]",
      "text/plain": [
       "<Figure size 640x480 with 5 Axes>"
      ]
     },
     "metadata": {},
     "output_type": "display_data"
    }
   ],
   "source": [
    "# show\n",
    "num_imgs = 5\n",
    "fig, axes = plt.subplots(1, num_imgs)\n",
    "for i in range(num_imgs):\n",
    "    axes[i].imshow(X[i].reshape(28,28))\n",
    "    axes[i].set_title(f\"Label: {y[i]}\")\n",
    "    axes[i].axis('off')\n",
    "plt.show()"
   ]
  },
  {
   "cell_type": "markdown",
   "metadata": {
    "id": "9tKcQJjUlDCX"
   },
   "source": [
    "## Pre-Processing"
   ]
  },
  {
   "cell_type": "code",
   "execution_count": 36,
   "metadata": {
    "id": "jxdpDlEnkx_H"
   },
   "outputs": [],
   "source": [
    "y_ohe = OneHotEncoder().fit_transform(y.reshape(-1,1)).toarray()\n",
    "X_train, X_test, y_train, y_test = train_test_split(X, y_ohe, test_size=0.2, random_state=12)\n",
    "\n",
    "scaler = StandardScaler()\n",
    "X_train = scaler.fit_transform(X_train)\n",
    "X_test = scaler.transform(X_test)"
   ]
  },
  {
   "cell_type": "code",
   "execution_count": 37,
   "metadata": {
    "id": "87FwCJNFkMWb"
   },
   "outputs": [],
   "source": [
    "def sigmoid(x):\n",
    "    x = np.clip(x, -100, 100)\n",
    "    return 1 / (1 + np.exp(-x))\n",
    "\n",
    "def sigmoid_prime(x):\n",
    "    return x * (1 - x)"
   ]
  },
  {
   "cell_type": "code",
   "execution_count": 38,
   "metadata": {
    "id": "rhIX8itugeJe"
   },
   "outputs": [],
   "source": [
    "def forward_prop(w1, w2, b1, b2, x):\n",
    "    # IMPLEMENT HERE\n",
    "    z1 = x @ w1 + b1\n",
    "    h1 = sigmoid(z1)\n",
    "    \n",
    "    z2 = h1 @ w2 + b2\n",
    "    y_hat = sigmoid(z2)\n",
    "    \n",
    "    return z1, h1, z2, y_hat\n",
    "\n",
    "def back_prop(m,w1,w2,z1,h1,z2,y_hat,x,y):\n",
    "    # IMPLEMENT HERE\n",
    "    dz2 = y_hat - y\n",
    "    dw2 = h1.T @ dz2\n",
    "    db2 = np.ones((1,m)) @ dz2 / m\n",
    "    \n",
    "    dz1 = (dz2 @ w2.T) * sigmoid_prime(h1)\n",
    "    dw1 = x.T @ dz1\n",
    "    \n",
    "    db1 = np.ones((1, m)) @ dz1 / m\n",
    "    \n",
    "    return dw1, db1, dw2, db2"
   ]
  },
  {
   "cell_type": "markdown",
   "metadata": {
    "id": "W6AjsiVxCFOY"
   },
   "source": [
    "## Initialization"
   ]
  },
  {
   "cell_type": "code",
   "execution_count": 39,
   "metadata": {
    "id": "MRuOgHJW5ptZ"
   },
   "outputs": [],
   "source": [
    "## Initialize weights\n",
    "n_x = X_train.shape[1]\n",
    "n_y = y_train.shape[1]\n",
    "n_h = 100\n",
    "\n",
    "w1 = np.random.rand(n_x, n_h) - 0.5\n",
    "w2 = np.random.rand(n_h, n_y) - 0.5\n",
    "b1 = np.random.rand(1, n_h) - 0.5\n",
    "b2 = np.random.rand(1, n_y) - 0.5"
   ]
  },
  {
   "cell_type": "markdown",
   "metadata": {
    "id": "qEMhX4QoCMwT"
   },
   "source": [
    "## Main Loop"
   ]
  },
  {
   "cell_type": "code",
   "execution_count": 40,
   "metadata": {
    "colab": {
     "base_uri": "https://localhost:8080/",
     "height": 373
    },
    "id": "So0G9TCdge6Z",
    "outputId": "5f0151e0-557a-4c5b-9a70-aab52eac736a"
   },
   "outputs": [
    {
     "name": "stdout",
     "output_type": "stream",
     "text": [
      "[0.46702984 0.04723225 0.47268436 0.21481599 0.19772882]\n",
      "[-161.66130982 -163.70189403   16.51467468  -71.39244543  -26.24197712]\n",
      "loss: 7.862787070527112\n",
      "[0.46702984 0.04723225 0.47268436 0.21481599 0.19772882]\n",
      "[-158.70690378 -101.04184665 -210.8628714   -48.43189867   -8.27378699]\n",
      "loss: 41.457222246718935\n",
      "[0.46702984 0.04723225 0.47268436 0.21481599 0.19772882]\n",
      "[-145.99672011  -39.4626369  -157.2763625   -24.56782218 -240.71598095]\n",
      "loss: 41.2193960200146\n",
      "[0.46702984 0.04723225 0.47268436 0.21481599 0.19772882]\n",
      "[-142.93656721   22.35124192 -106.26403752   -9.41641813 -212.30222723]\n",
      "loss: 44.32221337081786\n",
      "[0.46702984 0.04723225 0.47268436 0.21481599 0.19772882]\n",
      "[-141.42818792   70.85048136  -59.24762566   17.96472086 -202.21564911]\n",
      "loss: 24.244484037974555\n",
      "[0.46702984 0.04723225 0.47268436 0.21481599 0.19772882]\n",
      "[-146.4726122    14.79937497  -25.33229562    9.32239014 -195.99331446]\n",
      "loss: 25.085660773791982\n",
      "[0.46702984 0.04723225 0.47268436 0.21481599 0.19772882]\n",
      "[-143.10043235   75.85919264   10.88717205   38.66104313 -190.67824614]\n",
      "loss: 40.987871446937035\n",
      "[0.46702984 0.04723225 0.47268436 0.21481599 0.19772882]\n",
      "[-155.23432689   22.39208744   44.1452408  -111.31343746 -186.22402556]\n",
      "loss: 45.98857400435313\n",
      "[0.46702984 0.04723225 0.47268436 0.21481599 0.19772882]\n",
      "[-129.90164036   39.15731274  -57.21051586  -59.86223511 -184.35614566]\n",
      "loss: 26.21595052594938\n",
      "[0.46702984 0.04723225 0.47268436 0.21481599 0.19772882]\n",
      "[-176.28296625   21.47761083  -12.10484288   -6.03488705 -181.39796075]\n",
      "loss: 28.08189262852482\n",
      "[0.46702984 0.04723225 0.47268436 0.21481599 0.19772882]\n",
      "[-169.63815346   40.8672756    34.71798725   47.78891999 -182.2511174 ]\n",
      "loss: 20.568241486784625\n",
      "[0.46702984 0.04723225 0.47268436 0.21481599 0.19772882]\n",
      "[-167.99160695   23.54426386   51.1290106    56.44593572 -180.53164166]\n",
      "loss: 19.157266726188396\n",
      "[0.46702984 0.04723225 0.47268436 0.21481599 0.19772882]\n",
      "[-201.6532994    27.86558449   -8.6848734    44.26378805 -181.60523128]\n",
      "loss: 22.350533101979952\n",
      "[0.46702984 0.04723225 0.47268436 0.21481599 0.19772882]\n",
      "[-196.72136776   30.11019157   39.15160089   43.67756326 -180.8752344 ]\n",
      "loss: 17.115434529173758\n",
      "[0.46702984 0.04723225 0.47268436 0.21481599 0.19772882]\n",
      "[-208.82130581   29.39565142   52.80908928   35.00145351 -184.76263218]\n",
      "loss: 14.303522138568248\n",
      "[0.46702984 0.04723225 0.47268436 0.21481599 0.19772882]\n",
      "[-207.46319318   30.73148212   26.34921563   38.01072421 -183.91297709]\n",
      "loss: 14.904276014949556\n",
      "[0.46702984 0.04723225 0.47268436 0.21481599 0.19772882]\n",
      "[-209.27321581   30.48724325   73.42765363   25.33357141 -189.11133075]\n",
      "loss: 13.934938101273325\n",
      "[0.46702984 0.04723225 0.47268436 0.21481599 0.19772882]\n",
      "[-210.21253366   30.67883153   39.1389319    41.44916235 -188.17806875]\n",
      "loss: 12.84297672201144\n",
      "[0.46702984 0.04723225 0.47268436 0.21481599 0.19772882]\n",
      "[-210.82054619   31.08604366   76.81883687   -6.98276148 -192.63176917]\n",
      "loss: 14.088102070710555\n",
      "[0.46702984 0.04723225 0.47268436 0.21481599 0.19772882]\n",
      "[-211.50323884   31.76754655   39.09758568   43.48774455 -190.9436302 ]\n",
      "loss: 16.812146428285807\n",
      "[0.46702984 0.04723225 0.47268436 0.21481599 0.19772882]\n",
      "[-212.2188679    30.5610643    86.27939366   57.752041   -196.04254169]\n",
      "loss: 12.876728016679351\n",
      "[0.46702984 0.04723225 0.47268436 0.21481599 0.19772882]\n",
      "[-212.81906383   31.02157205   74.41844817   23.42017499 -193.77734789]\n",
      "loss: 11.791469290409841\n",
      "[0.46702984 0.04723225 0.47268436 0.21481599 0.19772882]\n",
      "[-212.57193015   29.70598392   72.5498779    49.71868995 -199.06331726]\n",
      "loss: 10.148612462930258\n",
      "[0.46702984 0.04723225 0.47268436 0.21481599 0.19772882]\n",
      "[-212.68114819   30.23004396   67.85034802    8.34088908 -196.96343604]\n",
      "loss: 11.058904518187296\n",
      "[0.46702984 0.04723225 0.47268436 0.21481599 0.19772882]\n",
      "[-212.44543777   29.87813298   64.89606639   53.05189147 -200.91212283]\n",
      "loss: 11.285558643403139\n",
      "[0.46702984 0.04723225 0.47268436 0.21481599 0.19772882]\n",
      "[-212.244055     30.80615575   62.70902296   14.13520124 -198.06129173]\n",
      "loss: 10.761331636814125\n",
      "[0.46702984 0.04723225 0.47268436 0.21481599 0.19772882]\n",
      "[-211.94133267   29.91060363   60.79758235   44.54199482 -200.84434833]\n",
      "loss: 9.443843842602966\n",
      "[0.46702984 0.04723225 0.47268436 0.21481599 0.19772882]\n",
      "[-211.90887471   30.41044009   59.22740512   12.39816817 -199.17370166]\n",
      "loss: 10.916701405349064\n",
      "[0.46702984 0.04723225 0.47268436 0.21481599 0.19772882]\n",
      "[-211.85621419   30.16896265   58.18221423   41.64130873 -201.35994233]\n",
      "loss: 9.818171449614594\n",
      "[0.46702984 0.04723225 0.47268436 0.21481599 0.19772882]\n",
      "[-211.6567339    30.66312436   57.16290365   13.5806179  -199.99779455]\n",
      "loss: 8.428416929757342\n",
      "loss: 8.43, acc: 0.81\n"
     ]
    }
   ],
   "source": [
    "epoch = 30\n",
    "losses = []\n",
    "m = y_train.shape[0]        # of data set\n",
    "lr = 0.01                   # Learning rate\n",
    "\n",
    "y_train_true = np.argmax(y_train, axis=1)\n",
    "y_test_true = np.argmax(y_test, axis=1)\n",
    "for i in range(epoch):\n",
    "    ## IMPLEMENT HERE\n",
    "    z1, a1, z2, y_hat = forward_prop(w1, w2, b1, b2, X_train)\n",
    "    loss = -(1/m)*np.sum(y_train*np.log(y_hat + 1e-10) + (1-y_train)*np.log(1-y_hat + 1e-10))\n",
    "\n",
    "    losses.append(loss)\n",
    "\n",
    "    dw1, db1, dw2, db2 = back_prop(m, w1, w2, z1, a1, z2, y_hat, X_train, y_train)\n",
    "\n",
    "    w2 = w2 - lr*dw2\n",
    "    w1 = w1 - lr*dw1\n",
    "    b2 = b2 - lr*db2\n",
    "    b1 = b1 - lr*db1\n",
    "\n",
    "    print(w1[0, :5])\n",
    "    print(w2[0, :5])\n",
    "    print(f'loss: {loss}')\n",
    "\n",
    "# TEST\n",
    "_, _, _, y_test_hat = forward_prop(w1, w2, b1, b2, X_test)\n",
    "y_test_hat_true = np.argmax(y_test_hat, axis=1)\n",
    "accuracy = accuracy_score(y_test_true, y_test_hat_true)\n",
    "print(f'loss: {loss:.2f}, acc: {accuracy:.2f}')"
   ]
  },
  {
   "cell_type": "markdown",
   "metadata": {
    "id": "-fKPh-a5whzB"
   },
   "source": [
    "## Loss"
   ]
  },
  {
   "cell_type": "code",
   "execution_count": 42,
   "metadata": {
    "id": "h7Bt2MnTwhTT"
   },
   "outputs": [
    {
     "data": {
      "image/png": "[encoded data removed]",
      "text/plain": [
       "<Figure size 640x480 with 1 Axes>"
      ]
     },
     "metadata": {},
     "output_type": "display_data"
    }
   ],
   "source": [
    "plt.plot(losses)\n",
    "plt.xlabel(\"EPOCHS\")\n",
    "plt.ylabel(\"Loss value\")\n",
    "plt.show()"
   ]
  },
  {
   "cell_type": "markdown",
   "metadata": {
    "id": "XeDHob_RjIGp"
   },
   "source": [
    "## Accuracy"
   ]
  },
  {
   "cell_type": "code",
   "execution_count": 43,
   "metadata": {
    "id": "XD0wfritjF1s"
   },
   "outputs": [
    {
     "name": "stdout",
     "output_type": "stream",
     "text": [
      "loss: 8.43, acc: 0.81\n"
     ]
    }
   ],
   "source": [
    "_, _, _, y_test_hat = forward_prop(w1, w2, b1, b2, X_test)\n",
    "y_test_hat_true = np.argmax(y_test_hat, axis=1)\n",
    "accuracy = accuracy_score(y_test_true, y_test_hat_true)\n",
    "print(f'loss: {loss:.2f}, acc: {accuracy:.2f}')"
   ]
  },
  {
   "cell_type": "code",
   "execution_count": null,
   "metadata": {},
   "outputs": [],
   "source": []
  }
 ],
 "metadata": {
  "colab": {
   "provenance": []
  },
  "kernelspec": {
   "display_name": "Python 3 (ipykernel)",
   "language": "python",
   "name": "python3"
  },
  "language_info": {
   "codemirror_mode": {
    "name": "ipython",
    "version": 3
   },
   "file_extension": ".py",
   "mimetype": "text/x-python",
   "name": "python",
   "nbconvert_exporter": "python",
   "pygments_lexer": "ipython3",
   "version": "3.10.15"
  }
 },
 "nbformat": 4,
 "nbformat_minor": 4
}
